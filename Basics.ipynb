{
 "cells": [
  {
   "cell_type": "markdown",
   "metadata": {},
   "source": [
    "varname=10\n",
    "type(varname)\n",
    "print(\"akhdkhk\")\n",
    "int/str/float/complex datatypes\n",
    "#comment\n",
    "'''\n",
    "multi line comment\n",
    "\n",
    "'''\n",
    "strvar=fdjgd  #error..qoutes needed\n",
    "strvar=\"khkah\"  works\n",
    "\n",
    "\n",
    "----\n",
    "Other IDEs for python-\n",
    "Pycharm\n",
    "VSCode\n",
    "\n",
    "----\n",
    "complex no.\n",
    "c=8+5j\n",
    "where j is imaginery no.\n",
    "j^2=-1\n",
    "\n",
    "There are a lot of prebuilt functions.\n",
    "\n",
    "type(c)\n",
    "will give complex\n",
    "\n",
    "c.real\n",
    "will give real no. part as float \n",
    "\n",
    "c.imag\n",
    "will give imaginary part\n",
    "\n",
    "------\n",
    "a=True            # Tru=1 and False=0 internally for sysstem\n",
    "type(a)\n",
    "returns bool\n",
    "\n",
    "------\n",
    "True+True\n",
    "returns 2\n",
    "\n",
    "----\n",
    "\n",
    "4/0\n",
    "ZeroDivisonError\n",
    "\n",
    "but in Numpy\n",
    "4/0\n",
    "returns inf (infinity).Its an error in core python.\n",
    "\n",
    "\n",
    "----------------\n",
    "a=2*3    #multiplication\n",
    "returns 6\n",
    "\n",
    "b=2**3   #Power\n",
    "returns 8\n",
    "\n",
    "-----\n",
    "##Logical GATES/ Bitwise operator\n",
    "3^4\n",
    "returns 7\n",
    "\n",
    "\n",
    "abdef*2\n",
    "returns abdefabdef\n",
    "\n",
    "\"Priyanka\" + \"Gupta\"\n",
    "PriyankaGupta\n",
    "\n",
    "\"Priyanka\" - \"Gupta\"\n",
    "error-unsupported operand type\n",
    "\n",
    "\"Priyanka\" +1\n",
    " returns erro- can concatenate only str\n",
    " \n",
    " \"Priyanka\" + str(1)\n",
    " Priyanka1\n",
    " \n",
    " \n",
    " \"Priyanka\" + \"1\"\n",
    " Priyanka1\n",
    " \n",
    " int(\"abc\")\n",
    " error-invalid literal for int() with base 10: abc\n",
    " \n",
    " int('1')\n",
    " returns 1\n",
    " \n",
    " int(True)\n",
    " returns 1\n",
    " \n",
    " -----------------\n",
    " \n",
    " #input function \n",
    " #reads from  standard input \n",
    " \n",
    " b=\"abs\"\n",
    " x=input()\n",
    " enter input here\n",
    " then\n",
    " returns that input\n",
    "  \n",
    "  \n",
    " \n",
    " \n",
    "\n",
    "\n",
    "\n"
   ]
  },
  {
   "cell_type": "code",
   "execution_count": 4,
   "metadata": {},
   "outputs": [
    {
     "name": "stdout",
     "output_type": "stream",
     "text": [
      "khkshad\n"
     ]
    }
   ],
   "source": [
    "x=input()"
   ]
  },
  {
   "cell_type": "code",
   "execution_count": 5,
   "metadata": {},
   "outputs": [
    {
     "data": {
      "text/plain": [
       "'khkshad'"
      ]
     },
     "execution_count": 5,
     "metadata": {},
     "output_type": "execute_result"
    }
   ],
   "source": [
    "x"
   ]
  },
  {
   "cell_type": "code",
   "execution_count": 6,
   "metadata": {},
   "outputs": [
    {
     "data": {
      "text/plain": [
       "str"
      ]
     },
     "execution_count": 6,
     "metadata": {},
     "output_type": "execute_result"
    }
   ],
   "source": [
    "type(x)"
   ]
  },
  {
   "cell_type": "code",
   "execution_count": 7,
   "metadata": {},
   "outputs": [
    {
     "name": "stdout",
     "output_type": "stream",
     "text": [
      "45\n"
     ]
    }
   ],
   "source": [
    "x=input()"
   ]
  },
  {
   "cell_type": "code",
   "execution_count": 8,
   "metadata": {},
   "outputs": [
    {
     "data": {
      "text/plain": [
       "'45'"
      ]
     },
     "execution_count": 8,
     "metadata": {},
     "output_type": "execute_result"
    }
   ],
   "source": [
    "x   # here value of x is string as it is taking input from standard input"
   ]
  },
  {
   "cell_type": "code",
   "execution_count": 9,
   "metadata": {},
   "outputs": [
    {
     "name": "stdout",
     "output_type": "stream",
     "text": [
      "45\n"
     ]
    }
   ],
   "source": [
    "#if we want to convert into int\n",
    "x=int(input())"
   ]
  },
  {
   "cell_type": "code",
   "execution_count": 10,
   "metadata": {},
   "outputs": [
    {
     "data": {
      "text/plain": [
       "int"
      ]
     },
     "execution_count": 10,
     "metadata": {},
     "output_type": "execute_result"
    }
   ],
   "source": [
    "type(x)"
   ]
  },
  {
   "cell_type": "code",
   "execution_count": null,
   "metadata": {},
   "outputs": [],
   "source": []
  },
  {
   "cell_type": "code",
   "execution_count": null,
   "metadata": {},
   "outputs": [],
   "source": []
  },
  {
   "cell_type": "code",
   "execution_count": null,
   "metadata": {},
   "outputs": [],
   "source": []
  }
 ],
 "metadata": {
  "kernelspec": {
   "display_name": "Python 3",
   "language": "python",
   "name": "python3"
  },
  "language_info": {
   "codemirror_mode": {
    "name": "ipython",
    "version": 3
   },
   "file_extension": ".py",
   "mimetype": "text/x-python",
   "name": "python",
   "nbconvert_exporter": "python",
   "pygments_lexer": "ipython3",
   "version": "3.8.5"
  }
 },
 "nbformat": 4,
 "nbformat_minor": 4
}
