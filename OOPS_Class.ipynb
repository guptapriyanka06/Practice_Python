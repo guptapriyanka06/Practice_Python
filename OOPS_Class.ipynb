{
 "cells": [
  {
   "cell_type": "code",
   "execution_count": 1,
   "metadata": {},
   "outputs": [],
   "source": [
    "class Classname(object):\n",
    "    pass"
   ]
  },
  {
   "cell_type": "code",
   "execution_count": 4,
   "metadata": {},
   "outputs": [
    {
     "data": {
      "text/plain": [
       "<__main__.Classname at 0x1a33b993730>"
      ]
     },
     "execution_count": 4,
     "metadata": {},
     "output_type": "execute_result"
    }
   ],
   "source": [
    "Classname()"
   ]
  },
  {
   "cell_type": "code",
   "execution_count": 5,
   "metadata": {},
   "outputs": [
    {
     "data": {
      "text/plain": [
       "__main__.Classname"
      ]
     },
     "execution_count": 5,
     "metadata": {},
     "output_type": "execute_result"
    }
   ],
   "source": [
    "Classname"
   ]
  },
  {
   "cell_type": "code",
   "execution_count": 2,
   "metadata": {},
   "outputs": [],
   "source": [
    "c1=Classname()         #class instance is object"
   ]
  },
  {
   "cell_type": "code",
   "execution_count": 3,
   "metadata": {},
   "outputs": [],
   "source": [
    "c2=Classname()"
   ]
  },
  {
   "cell_type": "markdown",
   "metadata": {},
   "source": [
    "# The simple reason is that the new is used for creating an instance, while init is used for initializing the instance. That's why new should be called before init.\n"
   ]
  },
  {
   "cell_type": "markdown",
   "metadata": {},
   "source": [
    "__new__"
   ]
  },
  {
   "cell_type": "markdown",
   "metadata": {},
   "source": [
    "__init__"
   ]
  },
  {
   "cell_type": "code",
   "execution_count": 14,
   "metadata": {},
   "outputs": [],
   "source": [
    "class objectcreationdemo():\n",
    "    def __new__(cls):\n",
    "        print(\"Object being Created\")\n",
    "        return object().__new__(cls)\n",
    "    \n",
    "    def __init__(self):\n",
    "        print(\"Initializing object\")\n",
    "        "
   ]
  },
  {
   "cell_type": "code",
   "execution_count": 16,
   "metadata": {},
   "outputs": [
    {
     "name": "stdout",
     "output_type": "stream",
     "text": [
      "Object Created\n",
      "Initializing object\n"
     ]
    },
    {
     "data": {
      "text/plain": [
       "<__main__.objectcreationdemo at 0x1a33ba7f6d0>"
      ]
     },
     "execution_count": 16,
     "metadata": {},
     "output_type": "execute_result"
    }
   ],
   "source": [
    "objectcreationdemo()"
   ]
  },
  {
   "cell_type": "code",
   "execution_count": 15,
   "metadata": {},
   "outputs": [
    {
     "data": {
      "text/plain": [
       "__main__.objectcreationdemo"
      ]
     },
     "execution_count": 15,
     "metadata": {},
     "output_type": "execute_result"
    }
   ],
   "source": [
    "objectcreationdemo"
   ]
  },
  {
   "cell_type": "markdown",
   "metadata": {},
   "source": [
    "a = myClass  # a and myClass identical at this point.  The interpretter won't care which you use.\n",
    "a_instance = a()  # instance of myClass\n",
    "\n",
    "def make_instance(cls):\n",
    "    return cls()\n",
    "\n",
    "another_instance = make_instance(a)\n",
    "yet_another_instance = make_instance(myClass)\n",
    "\n",
    "class()-this method defines how many arguments you'll have to pass."
   ]
  },
  {
   "cell_type": "markdown",
   "metadata": {},
   "source": [
    "# What is difference between CLS and self?"
   ]
  },
  {
   "cell_type": "markdown",
   "metadata": {},
   "source": [
    "cls implies that method belongs to the class while self implies that the method is related to instance of the class,therefore member with cls is accessed by class name where as the one with self is accessed by instance of the class"
   ]
  },
  {
   "cell_type": "markdown",
   "metadata": {},
   "source": [
    "Super()-it assures that in multiple inheritance, class should not be repeated."
   ]
  },
  {
   "cell_type": "markdown",
   "metadata": {},
   "source": [
    "object()-Create an empty object:\n",
    "The object() function returns an empty object.\n",
    "\n",
    "You cannot add new properties or methods to this object.\n",
    "\n",
    "This object is the base for all classes, it holds the built-in properties and methods which are default for all classes."
   ]
  },
  {
   "cell_type": "markdown",
   "metadata": {},
   "source": [
    "__repr__\n",
    " __repr__()  returns a printable representation of the object, one of the ways possible to create this object.  __repr__() is more useful for developers while __str__() is for end users."
   ]
  },
  {
   "cell_type": "markdown",
   "metadata": {},
   "source": [
    "A user defined class should also have a __repr__ if we need detailed information for debugging. And if we think it would be useful to have a string version for users, we create a __str__ function."
   ]
  },
  {
   "cell_type": "code",
   "execution_count": 20,
   "metadata": {},
   "outputs": [
    {
     "name": "stdout",
     "output_type": "stream",
     "text": [
      "10 + i20\n",
      "Rational(10, 20)\n"
     ]
    }
   ],
   "source": [
    "# Python program to demonstrate writing of __repr__ and\n",
    "# __str__ for user defined classes\n",
    "  \n",
    "# A user defined class to represent Complex numbers\n",
    "class Complex:\n",
    "  \n",
    "    # Constructor\n",
    "    def __init__(self, real, imag):\n",
    "       self.real = real\n",
    "       self.imag = imag\n",
    "  \n",
    "    # For call to repr(). Prints object's information\n",
    "    def __repr__(self):\n",
    "       return 'Rational(%s, %s)' % (self.real, self.imag)    \n",
    "  \n",
    "    # For call to str(). Prints readable form\n",
    "    def __str__(self):\n",
    "       return '%s + i%s' % (self.real, self.imag)    \n",
    "  \n",
    "  \n",
    "# Driver program to test above\n",
    "t = Complex(10, 20)\n",
    "  \n",
    "# Same as \"print t\"\n",
    "print (str(t))  \n",
    "print (repr(t))\n"
   ]
  },
  {
   "cell_type": "markdown",
   "metadata": {},
   "source": [
    "_str__ or str() is used for creating output that is human-readable are must be for end-users. But, repr() or __repr__ must serve the purpose of debugging and development."
   ]
  },
  {
   "cell_type": "code",
   "execution_count": null,
   "metadata": {},
   "outputs": [],
   "source": []
  }
 ],
 "metadata": {
  "kernelspec": {
   "display_name": "Python 3",
   "language": "python",
   "name": "python3"
  },
  "language_info": {
   "codemirror_mode": {
    "name": "ipython",
    "version": 3
   },
   "file_extension": ".py",
   "mimetype": "text/x-python",
   "name": "python",
   "nbconvert_exporter": "python",
   "pygments_lexer": "ipython3",
   "version": "3.8.5"
  }
 },
 "nbformat": 4,
 "nbformat_minor": 4
}
